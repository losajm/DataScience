{
 "cells": [
  {
   "cell_type": "code",
   "execution_count": 1,
   "metadata": {},
   "outputs": [
    {
     "data": {
      "text/html": [
       "        <script type=\"text/javascript\">\n",
       "        window.PlotlyConfig = {MathJaxConfig: 'local'};\n",
       "        if (window.MathJax) {MathJax.Hub.Config({SVG: {font: \"STIX-Web\"}});}\n",
       "        if (typeof require !== 'undefined') {\n",
       "        require.undef(\"plotly\");\n",
       "        requirejs.config({\n",
       "            paths: {\n",
       "                'plotly': ['https://cdn.plot.ly/plotly-latest.min']\n",
       "            }\n",
       "        });\n",
       "        require(['plotly'], function(Plotly) {\n",
       "            window._Plotly = Plotly;\n",
       "        });\n",
       "        }\n",
       "        </script>\n",
       "        "
      ]
     },
     "metadata": {},
     "output_type": "display_data"
    }
   ],
   "source": [
    "#Importamos librerias\n",
    "#Tokenizar\n",
    "import nltk\n",
    "from nltk.tokenize import TweetTokenizer\n",
    "from nltk.tokenize import sent_tokenize\n",
    "from nltk.stem import PorterStemmer #Procesamiento de texto\n",
    "from nltk.corpus import stopwords #Para limpiar palabras irrelevantes en la tokenización\n",
    "\n",
    "#Para mover strings ...\n",
    "import re\n",
    "import string\n",
    "from bs4 import BeautifulSoup #Contabilizar tokens\n",
    "from collections import Counter #Contabilizar\n",
    "\n",
    "import pandas as pd #Pandas\n",
    "import numpy as np # linear\n",
    "import seaborn as sns #Seaborn\n",
    "import matplotlib.pyplot as plt #Graficar\n",
    "%matplotlib inline\n",
    "\n",
    "# más gráficas\n",
    "import plotly.offline as py\n",
    "py.init_notebook_mode(connected=True)\n",
    "import plotly.graph_objs as go\n",
    "import plotly.tools as tls\n",
    "\n",
    "from sklearn.model_selection import train_test_split #Para hacer la \n",
    "from sklearn.metrics import confusion_matrix #Matriz de confusión\n",
    "from sklearn.ensemble import RandomForestClassifier #Random Forest\n",
    "from sklearn.feature_extraction.text import TfidfVectorizer #Para hacer vectorización\n",
    "from sklearn.naive_bayes import MultinomialNB #Naive Bayes\n",
    "from sklearn import metrics"
   ]
  },
  {
   "cell_type": "code",
   "execution_count": 2,
   "metadata": {},
   "outputs": [
    {
     "name": "stdout",
     "output_type": "stream",
     "text": [
      "<class 'pandas.core.frame.DataFrame'>\n",
      "RangeIndex: 1717 entries, 0 to 1716\n",
      "Data columns (total 15 columns):\n",
      " #   Column            Non-Null Count  Dtype  \n",
      "---  ------            --------------  -----  \n",
      " 0   CanDoBetter       1689 non-null   object \n",
      " 1   ID                1715 non-null   float64\n",
      " 2   Training          1715 non-null   object \n",
      " 3   Est_Income        1715 non-null   float64\n",
      " 4   Benefit           1715 non-null   object \n",
      " 5   length_of_hire    1715 non-null   float64\n",
      " 6   Facility          1715 non-null   object \n",
      " 7   DriveTime         1715 non-null   object \n",
      " 8   Marital           1715 non-null   object \n",
      " 9   SpousalBenefit    1715 non-null   object \n",
      " 10  StockPlan         1715 non-null   object \n",
      " 11  TrainingRecieved  1715 non-null   object \n",
      " 12  PositionType      1715 non-null   object \n",
      " 13  Education         1715 non-null   object \n",
      " 14  Status            1715 non-null   object \n",
      "dtypes: float64(3), object(12)\n",
      "memory usage: 201.3+ KB\n"
     ]
    }
   ],
   "source": [
    "#Leemos el archivo y verificamos las características de los campos\n",
    "df=pd.read_excel('../Práctica6/6.5. EmployeeData.xlsx')\n",
    "df.info()"
   ]
  },
  {
   "cell_type": "code",
   "execution_count": 3,
   "metadata": {},
   "outputs": [],
   "source": [
    "#Reemplazamos valores en Status\n",
    "df.Status=df.Status.replace({\"Current\":1,\"Past\":0})"
   ]
  },
  {
   "cell_type": "code",
   "execution_count": 4,
   "metadata": {},
   "outputs": [
    {
     "data": {
      "text/plain": [
       "CanDoBetter         27\n",
       "ID                   1\n",
       "Training             1\n",
       "Est_Income           1\n",
       "Benefit              1\n",
       "length_of_hire       1\n",
       "Facility             1\n",
       "DriveTime            1\n",
       "Marital              1\n",
       "SpousalBenefit       1\n",
       "StockPlan            1\n",
       "TrainingRecieved     1\n",
       "PositionType         1\n",
       "Education            1\n",
       "Status               1\n",
       "dtype: int64"
      ]
     },
     "execution_count": 4,
     "metadata": {},
     "output_type": "execute_result"
    }
   ],
   "source": [
    "#Eliminamos duplicados ya que no aportan nada para la predicción y verificamos sí hubo algún cambio\n",
    "df.duplicated().sum()\n",
    "df.drop_duplicates(inplace=True)\n",
    "df.isnull().sum()"
   ]
  },
  {
   "cell_type": "code",
   "execution_count": 5,
   "metadata": {},
   "outputs": [
    {
     "data": {
      "text/plain": [
       "CanDoBetter         0\n",
       "ID                  0\n",
       "Training            0\n",
       "Est_Income          0\n",
       "Benefit             0\n",
       "length_of_hire      0\n",
       "Facility            0\n",
       "DriveTime           0\n",
       "Marital             0\n",
       "SpousalBenefit      0\n",
       "StockPlan           0\n",
       "TrainingRecieved    0\n",
       "PositionType        0\n",
       "Education           0\n",
       "Status              0\n",
       "dtype: int64"
      ]
     },
     "execution_count": 5,
     "metadata": {},
     "output_type": "execute_result"
    }
   ],
   "source": [
    "#Eliminamos los registros con valores en nulo ya que son pocos y no son relevantes para el modelo\n",
    "df=df.dropna()\n",
    "df.isnull().sum()"
   ]
  },
  {
   "cell_type": "code",
   "execution_count": 6,
   "metadata": {},
   "outputs": [],
   "source": [
    "#Limpiamos palabras de la columna \"CanDoBetter\"\n",
    "stemmer = PorterStemmer()\n",
    "words = stopwords.words(\"english\",\"spanish\")\n",
    "df['processedtext'] = df['CanDoBetter'].apply(lambda x: \" \".join([stemmer.stem(i) for i in re.sub(\"[^a-zA-Z]\", \" \", x).split() if i not in words]).lower())"
   ]
  },
  {
   "cell_type": "code",
   "execution_count": 7,
   "metadata": {},
   "outputs": [
    {
     "name": "stdout",
     "output_type": "stream",
     "text": [
      "(1689, 16)\n"
     ]
    },
    {
     "data": {
      "text/html": [
       "<div>\n",
       "<style scoped>\n",
       "    .dataframe tbody tr th:only-of-type {\n",
       "        vertical-align: middle;\n",
       "    }\n",
       "\n",
       "    .dataframe tbody tr th {\n",
       "        vertical-align: top;\n",
       "    }\n",
       "\n",
       "    .dataframe thead th {\n",
       "        text-align: right;\n",
       "    }\n",
       "</style>\n",
       "<table border=\"1\" class=\"dataframe\">\n",
       "  <thead>\n",
       "    <tr style=\"text-align: right;\">\n",
       "      <th></th>\n",
       "      <th>CanDoBetter</th>\n",
       "      <th>ID</th>\n",
       "      <th>Training</th>\n",
       "      <th>Est_Income</th>\n",
       "      <th>Benefit</th>\n",
       "      <th>length_of_hire</th>\n",
       "      <th>Facility</th>\n",
       "      <th>DriveTime</th>\n",
       "      <th>Marital</th>\n",
       "      <th>SpousalBenefit</th>\n",
       "      <th>StockPlan</th>\n",
       "      <th>TrainingRecieved</th>\n",
       "      <th>PositionType</th>\n",
       "      <th>Education</th>\n",
       "      <th>Status</th>\n",
       "      <th>processedtext</th>\n",
       "    </tr>\n",
       "  </thead>\n",
       "  <tbody>\n",
       "    <tr>\n",
       "      <th>0</th>\n",
       "      <td>better non-monetary benefits.</td>\n",
       "      <td>2181.0</td>\n",
       "      <td>Y</td>\n",
       "      <td>60095.20000</td>\n",
       "      <td>Y</td>\n",
       "      <td>58.479532</td>\n",
       "      <td>Facility A</td>\n",
       "      <td>More than 90 mnts</td>\n",
       "      <td>Married</td>\n",
       "      <td>Yes</td>\n",
       "      <td>Yes</td>\n",
       "      <td>No</td>\n",
       "      <td>Sales</td>\n",
       "      <td>Associate, High school, or Certification</td>\n",
       "      <td>1.0</td>\n",
       "      <td>better non monetari benefit</td>\n",
       "    </tr>\n",
       "    <tr>\n",
       "      <th>1</th>\n",
       "      <td>company outings</td>\n",
       "      <td>2829.0</td>\n",
       "      <td>Y</td>\n",
       "      <td>47049.07979</td>\n",
       "      <td>N</td>\n",
       "      <td>35.714286</td>\n",
       "      <td>Facility B</td>\n",
       "      <td>0-30 mnts</td>\n",
       "      <td>Married</td>\n",
       "      <td>Yes</td>\n",
       "      <td>No</td>\n",
       "      <td>Yes</td>\n",
       "      <td>Sales</td>\n",
       "      <td>Associate, High school, or Certification</td>\n",
       "      <td>1.0</td>\n",
       "      <td>compani outing</td>\n",
       "    </tr>\n",
       "    <tr>\n",
       "      <th>2</th>\n",
       "      <td>Having more safety meeting, and discussing wha...</td>\n",
       "      <td>2144.0</td>\n",
       "      <td>Y</td>\n",
       "      <td>60724.12250</td>\n",
       "      <td>Y</td>\n",
       "      <td>17.152659</td>\n",
       "      <td>Facility B</td>\n",
       "      <td>60-90 mnts</td>\n",
       "      <td>Married</td>\n",
       "      <td>Yes</td>\n",
       "      <td>Yes</td>\n",
       "      <td>Yes</td>\n",
       "      <td>Sales</td>\n",
       "      <td>Masters Degree</td>\n",
       "      <td>0.0</td>\n",
       "      <td>have safeti meet discuss need done day start k...</td>\n",
       "    </tr>\n",
       "  </tbody>\n",
       "</table>\n",
       "</div>"
      ],
      "text/plain": [
       "                                         CanDoBetter      ID Training  \\\n",
       "0                      better non-monetary benefits.  2181.0        Y   \n",
       "1                                    company outings  2829.0        Y   \n",
       "2  Having more safety meeting, and discussing wha...  2144.0        Y   \n",
       "\n",
       "    Est_Income Benefit  length_of_hire    Facility          DriveTime  \\\n",
       "0  60095.20000       Y       58.479532  Facility A  More than 90 mnts   \n",
       "1  47049.07979       N       35.714286  Facility B          0-30 mnts   \n",
       "2  60724.12250       Y       17.152659  Facility B         60-90 mnts   \n",
       "\n",
       "   Marital SpousalBenefit StockPlan TrainingRecieved PositionType  \\\n",
       "0  Married            Yes       Yes               No        Sales   \n",
       "1  Married            Yes        No              Yes        Sales   \n",
       "2  Married            Yes       Yes              Yes        Sales   \n",
       "\n",
       "                                  Education  Status  \\\n",
       "0  Associate, High school, or Certification     1.0   \n",
       "1  Associate, High school, or Certification     1.0   \n",
       "2                            Masters Degree     0.0   \n",
       "\n",
       "                                       processedtext  \n",
       "0                        better non monetari benefit  \n",
       "1                                     compani outing  \n",
       "2  have safeti meet discuss need done day start k...  "
      ]
     },
     "execution_count": 7,
     "metadata": {},
     "output_type": "execute_result"
    }
   ],
   "source": [
    "#Observamos la forma del DF y los resultados del procesamiento\n",
    "print(df.shape)\n",
    "df.head(3)"
   ]
  },
  {
   "cell_type": "code",
   "execution_count": 8,
   "metadata": {},
   "outputs": [
    {
     "name": "stdout",
     "output_type": "stream",
     "text": [
      "(1689, 16)\n",
      "(1182,)\n",
      "(507,)\n"
     ]
    }
   ],
   "source": [
    "#Entrenamos el modelo\n",
    "target = df['Status']\n",
    "\n",
    "X_train, X_test, y_train, y_test = train_test_split(df['processedtext'], target, test_size=0.30, random_state=100)\n",
    "\n",
    "print(df.shape); print(X_train.shape); print(X_test.shape)"
   ]
  },
  {
   "cell_type": "markdown",
   "metadata": {},
   "source": [
    "Usamos el primer Algorítmo TfidfVectorizer, sirve para contabilizar la frecuencia del texto, y lo hacemos en inglés porque todos los valores están en inglés y agregué también el Español para evitar errores"
   ]
  },
  {
   "cell_type": "code",
   "execution_count": 9,
   "metadata": {},
   "outputs": [
    {
     "name": "stdout",
     "output_type": "stream",
     "text": [
      "['abras', 'accord', 'achiev', 'acknowledg', 'acquisit', 'across', 'act', 'action', 'activ', 'actual']\n"
     ]
    }
   ],
   "source": [
    "#Aplicación del vector y conteo de palabras\n",
    "vectorizer_tfidf = TfidfVectorizer(stop_words=('english','spanish'), max_df=0.7)\n",
    "\n",
    "train_tfIdf = vectorizer_tfidf.fit_transform(X_train.values.astype('U'))\n",
    "\n",
    "test_tfIdf = vectorizer_tfidf.transform(X_test.values.astype('U'))\n",
    "\n",
    "print(vectorizer_tfidf.get_feature_names()[:10])"
   ]
  },
  {
   "cell_type": "code",
   "execution_count": 10,
   "metadata": {},
   "outputs": [
    {
     "name": "stdout",
     "output_type": "stream",
     "text": [
      "(1182, 694)\n",
      "(507, 694)\n"
     ]
    }
   ],
   "source": [
    "#Predicción del entrenamiento\n",
    "print(train_tfIdf.shape); print(test_tfIdf.shape)"
   ]
  },
  {
   "cell_type": "markdown",
   "metadata": {},
   "source": [
    "Algoritmo Naive Bayes Multinomial"
   ]
  },
  {
   "cell_type": "code",
   "execution_count": 11,
   "metadata": {},
   "outputs": [
    {
     "name": "stdout",
     "output_type": "stream",
     "text": [
      "[0. 1. 0. 0. 1. 1. 0. 0. 1. 0.]\n"
     ]
    }
   ],
   "source": [
    "nb_classifier = MultinomialNB()\n",
    "\n",
    "nb_classifier.fit(train_tfIdf, y_train)\n",
    "\n",
    "pred2 = nb_classifier.predict(test_tfIdf) \n",
    "print(pred2[:10])"
   ]
  },
  {
   "cell_type": "code",
   "execution_count": 12,
   "metadata": {},
   "outputs": [
    {
     "name": "stdout",
     "output_type": "stream",
     "text": [
      "0.757396449704142\n"
     ]
    }
   ],
   "source": [
    "accuracy_tfidf = metrics.accuracy_score(y_test, pred2)\n",
    "print(accuracy_tfidf)\n",
    "\n",
    "#conf_metrics_tfidf = metrics.confusion_matrix(y_test, pred2, labels=['1', '0']) print(conf_metrics_tfidf)"
   ]
  },
  {
   "cell_type": "markdown",
   "metadata": {},
   "source": [
    "Random Forest"
   ]
  },
  {
   "cell_type": "code",
   "execution_count": 13,
   "metadata": {},
   "outputs": [
    {
     "data": {
      "text/plain": [
       "RandomForestClassifier(bootstrap=True, ccp_alpha=0.0, class_weight=None,\n",
       "                       criterion='entropy', max_depth=None, max_features='auto',\n",
       "                       max_leaf_nodes=None, max_samples=None,\n",
       "                       min_impurity_decrease=0.0, min_impurity_split=None,\n",
       "                       min_samples_leaf=1, min_samples_split=2,\n",
       "                       min_weight_fraction_leaf=0.0, n_estimators=10,\n",
       "                       n_jobs=None, oob_score=False, random_state=100,\n",
       "                       verbose=0, warm_start=False)"
      ]
     },
     "execution_count": 13,
     "metadata": {},
     "output_type": "execute_result"
    }
   ],
   "source": [
    "#Clasificación con Random Forest\n",
    "classifier = RandomForestClassifier(n_estimators = 10, criterion = 'entropy', random_state = 100)\n",
    "\n",
    "classifier.fit(train_tfIdf, y_train)"
   ]
  },
  {
   "cell_type": "code",
   "execution_count": 14,
   "metadata": {},
   "outputs": [
    {
     "name": "stdout",
     "output_type": "stream",
     "text": [
      "[0. 1. 0. 1. 1. 1. 0. 0. 1. 0.]\n",
      "0.7199211045364892\n"
     ]
    }
   ],
   "source": [
    "#Predicción de la alta y baja de empleados\n",
    "predRF = classifier.predict(test_tfIdf) \n",
    "print(predRF[:10])\n",
    "\n",
    "#Calculo del Accuracy\n",
    "accuracy_RF = metrics.accuracy_score(y_test, predRF)\n",
    "print(accuracy_RF)"
   ]
  },
  {
   "cell_type": "markdown",
   "metadata": {},
   "source": [
    "Tokenización de frases para entender un poco más las opiniones de los empleados"
   ]
  },
  {
   "cell_type": "code",
   "execution_count": 15,
   "metadata": {},
   "outputs": [],
   "source": [
    "tokens=df.processedtext"
   ]
  },
  {
   "cell_type": "code",
   "execution_count": 16,
   "metadata": {},
   "outputs": [
    {
     "name": "stdout",
     "output_type": "stream",
     "text": [
      "better non monetari benefit:1\n",
      "compani outing:20\n",
      "have safeti meet discuss need done day start keep open line employe i feel need happen job:1\n",
      "careerpromot:111\n",
      "i want answer:1\n",
      "board member listen:1\n",
      "pay even if new employe start higher pay employe year job right:1\n",
      "recogn good work:7\n",
      "boot plan retir day could care less job peopl kind boss still run show unfortun govern relat tenur big thing safe end:1\n",
      "treat employe respect:17\n",
      "higher wage:2\n",
      "pension:172\n",
      "know:6\n",
      "k pension rais industri standard:1\n",
      "noth:153\n",
      "pay:165\n",
      "i satisfi:1\n",
      "higher pay:1\n",
      "compani sponsor work eve:5\n",
      "better pay incent:19\n",
      "they could commun better let us know go decis made don leav us dark:1\n",
      "recogn reward good employe:6\n",
      "better pay:10\n",
      "better pay benefit:7\n",
      "allow advanc:1\n",
      "listen take action:30\n",
      "they practic preach hold manag code conduct hold employe:1\n",
      "n c:1\n",
      "listen:4\n",
      "pension rais:1\n",
      "social event:89\n",
      "focus perform across busi therebi reward contribut:1\n",
      "listen employe:6\n",
      "we need train date skill:1\n",
      "period extra incent:1\n",
      "offer fair compens thi like mani compani higher up get big buck rank file get littl rais thi compani could buck trend fell line in way differ mani place:1\n",
      "vacat time:2\n",
      "there careerpromot i would chang one way:1\n",
      "retir fund:1\n",
      "make perk benefit appeal:3\n",
      "stop reward across board give credit due:1\n",
      "offer incent:2\n",
      "offer childcar support:8\n",
      "rollov vacat time:15\n",
      "give higher wage:1\n",
      "cost live rais better insur appreci:1\n",
      "better perk benefit:12\n",
      "quit promot worst employe manag get workforc:1\n",
      "social event activ:5\n",
      "not reorgan everi year two constant fear layoff:1\n",
      "educ reimburs:6\n",
      "occasion focu group get better idea employe think thing import employe may upper manag think import:1\n",
      "flexibl work hour:7\n",
      "provid better pay:1\n",
      "act keep employe long:4\n",
      "same answer previou question:1\n",
      "higher social event compens:1\n",
      "transpar honesti manag:1\n",
      "actual i believ whole state bring teacher true profession level what colleg graduat begin job social event or hold master degre make:1\n",
      "nil:1\n",
      "show activ listen suggest complaint:1\n",
      "keep us inform occur:1\n",
      "unknown:1\n",
      "comment:15\n",
      "actual someth reward employe all employe someth well:1\n",
      "promot within stop secret upcom chang:1\n",
      "colleg reimburs:5\n",
      "it hard identifi word employe know compani realli care if want improv employe satisfact could start ensur employe feel though valuabl part organ:1\n",
      "it much compani problem employe:1\n",
      "all is good:1\n",
      "ye better pay treatment:1\n",
      "reward non sale better:1\n",
      "again n a:1\n",
      "improv commun intra depart:1\n",
      "i think mostli happi:1\n",
      "good far:4\n",
      "focu improv work environ offic space encourag healthi lifestyl employe:1\n",
      "better commun better pay:5\n",
      "sure:4\n",
      "pay us:1\n",
      "they could provid meal everyon compani thi would improv product cost would minim:1\n",
      "pay a subsist wage would drastic help rais moral:1\n",
      "not sourc job remain us:1\n",
      "offer flex time:1\n",
      "rais twice year:1\n",
      "they need respect the rule must fair everybodi staf big problem enough staff staff understand job:1\n",
      "facil:301\n",
      "social event work:1\n",
      "listen employe actual take action:1\n",
      "acknowledg good work merit rais advanc:1\n",
      "select better manag level peopl:1\n",
      "listen respond employe concern offer benefit:1\n",
      "not much:2\n",
      "could littl fair bonu system alreadi make huge amount get huge bonus worker bee bring work get small one:1\n",
      "honest employe:1\n",
      "compani sponsor work event:1\n",
      "better compens packag k healthcar insur:6\n",
      "may verbal prais thing right peopl alway tend mention neg import bring posit bring back free doughnut friday:1\n",
      "encourag staff develop time less budget cut:1\n",
      "more frequent rais:1\n",
      "increas noth bonu:2\n",
      "see previou question:1\n",
      "benefit:3\n",
      "no comment time:1\n",
      "plan group outing get togeth:1\n",
      "i feel subcontract happi:1\n",
      "better job retain good employe:1\n",
      "none:9\n",
      "yearli event spous:1\n",
      "better k match:1\n",
      "less polit emphasi perform:1\n",
      "give rais frequent:1\n",
      "higher careerpromot compens:1\n",
      "review overal compens structur:1\n",
      "take proactiv role career develop:1\n",
      "how bout give job:1\n",
      "employe satisfact:5\n",
      "we never compani picnic like place i heard i think picnic bring famili would fun:1\n",
      "interest fish mayb offici offic olymp instead unoffici endors employe organ one a manag support offic tetherbal one also support copi talent i feel:1\n",
      "listen respond employe concern:6\n",
      "i entir certain:1\n",
      "noth rais industri standard:2\n",
      "less polit:1\n",
      "listen take action improv satisfact:3\n",
      "everyth cool:1\n",
      "educ train career advanc:2\n",
      "not penal take vacat time:1\n",
      "increas careerpromot bonu:5\n",
      "compani gave everybodi good work good insur plan:1\n",
      "free lunch:2\n",
      "pay salari equival offer compar skill level organ:1\n",
      "rais leverag perform:1\n",
      "give work:1\n",
      "upgrad posit yearli good careerpromot increas:1\n",
      "we need compani handbook there employe guidelin vacat sick time time there noth guarante annual review:1\n",
      "provid sale peopl compani credit card:1\n",
      "team work:6\n",
      "better manag:1\n",
      "pay even:1\n",
      "less stress cut back:1\n",
      "we need better job skill train mani peopl get train current technolog lose promot outsid right train like some get fed leav place offer train:1\n",
      "more team build event:1\n",
      "listen issu employe:1\n",
      "better pay increas vacat time conduct perform review deal poor perform troublemak:1\n",
      "empow everi employe allow employe author make decis within reason:1\n",
      "offic atmospher offic dark gloomi appear:1\n",
      "i know:3\n",
      "honor contract sign:1\n",
      "they could keep promis make reward employe stay compani regular rais merit increas careerpromot:1\n",
      "allow manag make decis too much red tape:1\n",
      "better pay increas employe stay longer:1\n",
      "shorten disconnect corpor staff manag:1\n",
      "higher noth compens:3\n",
      "not unlik mani boss meet consum lot time sometim difficult get input time answer:1\n",
      "i region offic inform flow could sometim improv:1\n",
      "improv share inform depart:1\n",
      "be involv staff listen idea gener staff be visibl:1\n",
      "monetari reward:1\n",
      "get manag know busi work employe improv account level within store:1\n",
      "some chair squeaki wheel get nerv we also take turn bring suitcas stinki alley chines town i go tuesday they could realli higher messeng:1\n",
      "could fair employe train:1\n",
      "more upward mobil thi could achiev offer formal mentor program opportun career develop:1\n",
      "listen employe make clear employe expect:1\n",
      "do often:1\n",
      "more pay:1\n",
      "bonu review appreci:1\n",
      "manag faineanc better better insul workforc rollercoast budget streamlin manag line oper effici:1\n",
      "better health benefit:1\n",
      "childcar flexibl work schedul:1\n",
      "commiss break:1\n",
      "medic benefit quit expens would like employ match k:1\n",
      "better pay better manag:1\n",
      "even though lot fring benefit still need pay:1\n",
      "show appreci task well done:1\n",
      "more realist quota assign sale rep:1\n",
      "i employe:1\n",
      "pay more:1\n",
      "commun:1\n",
      "increas k match start:1\n",
      "ye:2\n",
      "i answer:2\n",
      "the hr approv process commun chang organ could made transpar consist:1\n",
      "noth improv employe satisfact:1\n",
      "improv technolog increas number employe it depart:1\n",
      "offer full time posit:1\n",
      "not much somebodi alway go unhappi point someth:1\n",
      "consist review program written offic polici retir plan lower health in deduct:1\n",
      "provid incent contest parti flex hour:1\n",
      "noth rais reflect job performan:1\n",
      "they need recogn individu achiev better for instanc issu certif achiev highest percentag quota everi quarter:1\n",
      "commun better treat depart like apart whole compani:1\n",
      "adjust pay scale reflect profit scale similar job descript:1\n",
      "actual listen employe someth feedback we employe sat survey noth done base result improv satisfact:1\n",
      "better insur annual review:1\n",
      "no strictli famili busi:1\n",
      "messag upper execut team employe:1\n",
      "stronger oper system:1\n",
      "mani peopl realli need flex hour help care famili member not kid sever peopl respons elderli famili peopl disabl and even older pet need extra attent:1\n",
      "peopl one contact would avail phone call:1\n",
      "increas pay:1\n",
      "posit feedback better rais profession mind manag:1\n",
      "be awar employe feel job:1\n",
      "more notic job well done better perk:1\n",
      "better benefit cost:1\n",
      "invest employe train commun show employe import futur compani:1\n",
      "let annual sale kickoff option:1\n",
      "get insur benefit:1\n",
      "they could improv k match it aggrav:1\n",
      "make effort make us happi don yell us like:1\n",
      "have better commun employe offic:1\n",
      "commun manag employe:5\n",
      "make sure i get cost live rais everi year:1\n",
      "give perform rais:1\n",
      "i sure yet i still new:1\n",
      "give review rais without us ask everi time:1\n",
      "increas salari:1\n",
      "pay scale match surround area school district:1\n",
      "improv compani match k:1\n",
      "cannot think anyth time:1\n",
      "more vacat time:1\n",
      "better air qualiti:1\n",
      "treat depart trip dinner along rest depart:1\n",
      "listen supervisor:1\n",
      "music day everyday:1\n",
      "provid benefit:2\n",
      "have perform review rais:1\n",
      "continu reward us good attend actual work penal whose attend poor work:1\n",
      "revert old day:1\n",
      "be awar employe work shift fit norm:1\n",
      "listen employe also follow plan action someth goe wrong:1\n",
      "get rid ceo:1\n",
      "unsur:2\n",
      "it would nice could stay competit organ regard pay:1\n",
      "better pay less pay union due insur plan:1\n",
      "give cheaper insur:1\n",
      "can think anyth:2\n",
      "treat peopl better:1\n",
      "i wish peopl treat equal area disciplinari infract too mani peopl get away much tardi absente insubordin neglect job duti outright illeg behavior overlook due inner offic polit:1\n",
      "better commun:4\n",
      "pool beer morn:1\n",
      "it hard say differ peopl like differ thing i believ compani great job meet peopl need:1\n",
      "actual listen take measur fix problem:1\n",
      "follow thru:1\n",
      "better k:1\n",
      "consist perform review:1\n",
      "pension except mayb rais pay scale:1\n",
      "pension i can think of at thi time:1\n",
      "continu keep employe inform:1\n",
      "offer medic dental retir benefit the could also offer paid time there current sick time offer:1\n",
      "better health insur coverag:1\n",
      "compens employe level perform:1\n",
      "fire store manag hire someon less abras:1\n",
      "i could alway use compens:1\n",
      "treat employe valuabl rather expend:1\n",
      "not sure:1\n",
      "how promot i heard anyon get promot sinc i it start look like way get promot go anoth compani that worri i want lose staff i realli like stay i also career think:1\n",
      "higher careerpromot tuition reimburs better match k:1\n",
      "pension rais industri standard:2\n",
      "pay better:1\n",
      "provid benefit like higher pay free transport:1\n",
      "put end click preferenti treatment favorit it small offic hard notic go make lunch half hour leav half hour earlier overtim avail part crew make avail don secret everyth someth go tell us hint:1\n",
      "better commun manag:1\n",
      "hour:1\n",
      "yearli revu:1\n",
      "pension thi good place work:1\n",
      "employe satisfi work condit pay benefit:1\n",
      "consid human element:1\n",
      "improv benefit:1\n",
      "wet bar offic:1\n",
      "get involv person develop:1\n",
      "make major manag chang:1\n",
      "stop favorit:1\n",
      "rearrang seat cubicl allow flow commun:1\n",
      "pay attent divers give peopl equal treatment come promot opportun also give employe say reloc necessari job:1\n",
      "careerpromot rais reflect job perform:1\n",
      "the lack benefit rel similar compani total disgrac contribut heavili staff attrit we park space shower facil compani contribut pension the dispar differ countri make feel dissatisfact wors:1\n",
      "moral last year compani good compani last year moral sunk we know peopl know seem care:1\n",
      "involv lower manag decis process better feedback street:1\n",
      "offer sort christma bonu gift:1\n",
      "offer gener higher pay i know everyon say compani offer competit low pay best work environ staff person benefit could ever hope so monthli food rent bill constant struggl i love i work i lucki part organ lucki th:1\n",
      "by listen employe problem come take action lot quicker:1\n",
      "careerpromot rais industri standard:2\n",
      "more resourc:1\n",
      "hire better skill worker:1\n",
      "pension i think:1\n",
      "be open:1\n",
      "the structur busi realli allow type improv outsid offic activ i realli feel comfort attend:1\n",
      "give rais work hard job perform show loyalti room advanc:1\n",
      "rais pay screen new employe better:1\n",
      "posit time action consult process:1\n",
      "care perhap even spend money hr:1\n",
      "listen peopl hire help stop greedi:1\n",
      "better commun employe gener especi regard merger acquisit thing realli shape compani individu employe role compani go forward stop send job us india save money reward employe outstand job paltri maximum:1\n",
      "stop complain employe:1\n",
      "better intern commun:1\n",
      "don realli know right:1\n",
      "more benefit:1\n",
      "even salari old employe compens fairli:1\n",
      "listen us employe:1\n",
      "offer signific increas differenti perform rate as stand differ pay increas employe exceed expect meet fall i would never adjust work ethic offer littl incent improv perform:1\n",
      "less bureaucraci fund:1\n",
      "fire worthless employe:1\n",
      "the order entri process enough said:1\n",
      "pay pension time pay pension correctli mess work schedul:1\n",
      "listen offer benefit:1\n",
      "commun manag employe could improv autom process everyon could stay page:1\n",
      "offer benefit employe:1\n",
      "open expand workforc:1\n",
      "well pension rais promot:1\n",
      "real review would know improv:1\n",
      "more encourag profession growth job relat train:1\n",
      "pension rais reflect job performan:2\n",
      "the compani need offer option get week vacat:1\n",
      "facil come mind:1\n",
      "listen respons suggest offer employe collect thru employe sat survey:1\n",
      "spend money make money thru technolog:1\n",
      "give back took away:1\n",
      "listen respond need:1\n",
      "be avail employe higher staff:1\n",
      "give employe least chanc buy medic insur compani:1\n",
      "benefit packag commun:1\n",
      "rais base job perform cost live rais:1\n",
      "need help:1\n",
      "they alway work us use suggest:1\n",
      "give bigger rais:1\n",
      "vacat time increas employ ira contribut:1\n",
      "better post new job offer better explan high level manag chang fewer manag chang restructur year:1\n",
      "perk:1\n",
      "have avail person growth:1\n",
      "i would like money:1\n",
      "nice:1\n",
      "train:1\n",
      "replac some of the co manag:1\n",
      "know yet:1\n",
      "person day person reason:1\n",
      "want list they start give crap worker they also lighten constant surveil they watch us time minut late get yell i profession punch clock i often work home care all care someon desk w:1\n",
      "better commun someth improv moral amongst rank:1\n",
      "could support employe children:1\n",
      "treat us like famili rather employe number:1\n",
      "rais base job perform:1\n",
      "bring remot offic corpor cultur employe program benefit incent event occur corpor offic duplic remot offic an exampl offic golf tournament fund raiser picnic:1\n",
      "give better view employ give rais pay minimum wage give least hour work so benefit offer:1\n",
      "other make feel like valu member staff boss well i think anyth els could:1\n",
      "increas benefit offer perk:1\n",
      "more bonus incent:1\n",
      "reward long time employe financi perform except:1\n",
      "expand medic coverag network:1\n",
      "pay us money:1\n",
      "encourag interdepartment interact cross pollin:1\n",
      "offer financi incent like bonus:1\n",
      "act keep employe longer:1\n",
      "get rid union:1\n",
      "it could treat us profession disciplin us choos act profession job level compet:1\n",
      "no comment:1\n",
      "everyth:1\n",
      "greater career opportun mobil offic locat:1\n",
      "offer flex time higher educ reimburs:1\n",
      "stop big brother keep employe hour instead forc peopl chang hour hire:1\n",
      "interact employe locat place:1\n",
      "bottl water cooki:1\n",
      "pay treat fairli:4\n",
      "money:1\n",
      "act upon say:1\n",
      "don know:1\n",
      "dental vision insur would nice:1\n",
      "do i say i go:1\n",
      "stop cut commiss:1\n",
      "have polici throughout entir univers:1\n",
      "better perk movi:1\n",
      "they could creat real k program instead k wanna program today:1\n",
      "commun alway better listen senior manag vision strategi one argu disagre howev bring work forc execut seem sometim put unexpect process place well commun reason therefor confus staff instead motiv next see lo:1\n",
      "park:1\n",
      "previou employ gave all employe unannounc token appreci coupl hour pay food treat compani pen etc:1\n",
      "the compani distribut work load a employe cover work:1\n",
      "i think compani done better job recent year:1\n",
      "i think social event employe network peopl depart i also think compani charit event i would also like free facil:1\n",
      "interest answer analyz result:1\n",
      "bonus:1\n"
     ]
    },
    {
     "name": "stdout",
     "output_type": "stream",
     "text": [
      "meet individu need:1\n",
      "offer flexibl schedul depart:1\n",
      "could recogn employe:1\n",
      "revers cutback:1\n",
      "free park:1\n",
      "listen and take action:1\n",
      "tri offer benefit:1\n",
      "pay base on perform train staff to learn differ task:1\n",
      "again place much emphasi sick time perfect attend:1\n",
      "keep improv channel employe feedback:1\n",
      "for starter take activ interest profession develop employe we lost twenti good profession place appear activ disinterest employe clear care:1\n",
      "listen follow:1\n",
      "treat employe better respect:1\n",
      "rais offer overtim etc:1\n",
      "i think anyth far posit concern:1\n",
      "make one chang year come suggest:1\n",
      "give merit increas bonus stop give preferenti treatment peopl like fire peopl incompet:1\n",
      "do compani sponsor event:1\n",
      "employe depart overwork:1\n",
      "show proper respect employe treat like brain good idea:1\n",
      "provid benefit part time employe not fill paper work get paid:1\n",
      "higher pension compens:1\n",
      "acknowledg superior achiev vacat time:1\n",
      "better faster decis make improv commun corpor employe locat locat:1\n",
      "reward peopl accord work accord know relat:1\n",
      "improv compens packag start k match:1\n",
      "act feedback:1\n",
      "i would like see boss add benefit:1\n",
      "pleas see previou answer the busi offic would feel better recogn respect valu part organ some time small thing make place better work money great i alway take rais sincer great job small surpris cooki etc realli lift feel:1\n",
      "recognit:1\n",
      "good:1\n",
      "offer compani match k:1\n",
      "pay better offer better perk:1\n",
      "need includ wider select coverag outsid educ cours current class approv limit addit class outsid scope current posit would allow go posit compani:1\n",
      "more vacat time high end laptop desktop:1\n",
      "offer benefit health care coverag:1\n",
      "treat depart fairli:1\n",
      "tell often:1\n",
      "retir better pay improv work condit:1\n",
      "give recognit job well done thank individu person time:1\n",
      "talk employe pay minimum wage promot teamwork:1\n",
      "object:1\n",
      "they could lose manag threat intimid mental:1\n",
      "i think beyond repair facil:1\n",
      "better pay rais:1\n",
      "compani close:1\n",
      "get rid gossip troubl maker:1\n",
      "pay rais:1\n",
      "i think give us pizza cheeseburg everi friday:1\n",
      "at time much commun:1\n",
      "actual care employe instead poorli pretend care:1\n",
      "better benefit higher wage:1\n",
      "perform bonu:1\n",
      "job secur:1\n",
      "way thing fine:1\n",
      "have health insur:1\n"
     ]
    }
   ],
   "source": [
    "#Extraemos la frecuencia de la tokenización\n",
    "freq = nltk.FreqDist(tokens)\n",
    "\n",
    "for key,val in freq.items():\n",
    "\n",
    "    print (str(key) + ':' + str(val))"
   ]
  },
  {
   "cell_type": "code",
   "execution_count": 17,
   "metadata": {},
   "outputs": [
    {
     "data": {
      "image/png": "[encoded data removed]",
      "text/plain": [
       "<Figure size 432x288 with 1 Axes>"
      ]
     },
     "metadata": {
      "needs_background": "light"
     },
     "output_type": "display_data"
    },
    {
     "data": {
      "text/plain": [
       "<matplotlib.axes._subplots.AxesSubplot at 0x2015c518ef0>"
      ]
     },
     "execution_count": 17,
     "metadata": {},
     "output_type": "execute_result"
    }
   ],
   "source": [
    "#Gráfico con más visibilidad\n",
    "freq.plot(20,cumulative=False)"
   ]
  },
  {
   "cell_type": "markdown",
   "metadata": {},
   "source": [
    "Analizaremos más a fondo sobre los empleados que se fueron, realizando el mismo conteo de palabras sobre los empleados que ya no estan"
   ]
  },
  {
   "cell_type": "code",
   "execution_count": 18,
   "metadata": {},
   "outputs": [],
   "source": [
    "#Copia del DF\n",
    "past=df"
   ]
  },
  {
   "cell_type": "code",
   "execution_count": 19,
   "metadata": {},
   "outputs": [
    {
     "data": {
      "text/plain": [
       "(752, 16)"
      ]
     },
     "execution_count": 19,
     "metadata": {},
     "output_type": "execute_result"
    }
   ],
   "source": [
    "#Eliminamos a los empleados actuales\n",
    "past=past.drop(past[past.Status >= 1].index)\n",
    "past.shape"
   ]
  },
  {
   "cell_type": "code",
   "execution_count": 20,
   "metadata": {},
   "outputs": [],
   "source": [
    "token=past.processedtext"
   ]
  },
  {
   "cell_type": "code",
   "execution_count": 21,
   "metadata": {},
   "outputs": [
    {
     "name": "stdout",
     "output_type": "stream",
     "text": [
      "have safeti meet discuss need done day start keep open line employe i feel need happen job:1\n",
      "careerpromot:103\n",
      "i want answer:1\n",
      "board member listen:1\n",
      "pay even if new employe start higher pay employe year job right:1\n",
      "recogn good work:2\n",
      "boot plan retir day could care less job peopl kind boss still run show unfortun govern relat tenur big thing safe end:1\n",
      "treat employe respect:12\n",
      "higher wage:1\n",
      "know:4\n",
      "i satisfi:1\n",
      "compani sponsor work eve:3\n",
      "better pay incent:11\n",
      "recogn reward good employe:3\n",
      "better pay benefit:5\n",
      "allow advanc:1\n",
      "pay:59\n",
      "listen take action:14\n",
      "they practic preach hold manag code conduct hold employe:1\n",
      "n c:1\n",
      "listen:3\n",
      "offer fair compens thi like mani compani higher up get big buck rank file get littl rais thi compani could buck trend fell line in way differ mani place:1\n",
      "there careerpromot i would chang one way:1\n",
      "retir fund:1\n",
      "make perk benefit appeal:2\n",
      "stop reward across board give credit due:1\n",
      "offer incent:1\n",
      "offer childcar support:4\n",
      "better perk benefit:5\n",
      "not reorgan everi year two constant fear layoff:1\n",
      "act keep employe long:2\n",
      "show activ listen suggest complaint:1\n",
      "promot within stop secret upcom chang:1\n",
      "colleg reimburs:4\n",
      "educ reimburs:4\n",
      "again n a:1\n",
      "comment:7\n",
      "improv commun intra depart:1\n",
      "compani outing:7\n",
      "sure:2\n",
      "better pay:5\n",
      "pay us:1\n",
      "they could provid meal everyon compani thi would improv product cost would minim:1\n",
      "pay a subsist wage would drastic help rais moral:1\n",
      "social event activ:2\n",
      "not sourc job remain us:1\n",
      "offer flex time:1\n",
      "social event:16\n",
      "facil:269\n",
      "social event work:1\n",
      "listen employe actual take action:1\n",
      "acknowledg good work merit rais advanc:1\n",
      "not much:1\n",
      "more frequent rais:1\n",
      "no comment time:1\n",
      "listen employe:3\n",
      "plan group outing get togeth:1\n",
      "i feel subcontract happi:1\n",
      "rollov vacat time:5\n",
      "higher careerpromot compens:1\n",
      "review overal compens structur:1\n",
      "we never compani picnic like place i heard i think picnic bring famili would fun:1\n",
      "listen respond employe concern:2\n",
      "listen take action improv satisfact:2\n",
      "everyth cool:1\n",
      "educ train career advanc:2\n",
      "not penal take vacat time:1\n",
      "increas careerpromot bonu:5\n",
      "pay salari equival offer compar skill level organ:1\n",
      "flexibl work hour:2\n",
      "upgrad posit yearli good careerpromot increas:1\n",
      "better commun better pay:2\n",
      "team work:3\n",
      "less stress cut back:1\n",
      "none:2\n",
      "listen issu employe:1\n",
      "empow everi employe allow employe author make decis within reason:1\n",
      "offic atmospher offic dark gloomi appear:1\n",
      "i know:1\n",
      "honor contract sign:1\n",
      "they could keep promis make reward employe stay compani regular rais merit increas careerpromot:1\n",
      "allow manag make decis too much red tape:1\n",
      "better pay increas employe stay longer:1\n",
      "get manag know busi work employe improv account level within store:1\n",
      "could fair employe train:1\n",
      "medic benefit quit expens would like employ match k:1\n",
      "better pay better manag:1\n",
      "more realist quota assign sale rep:1\n",
      "i employe:1\n",
      "pay more:1\n",
      "commun:1\n",
      "increas k match start:1\n",
      "ye:2\n",
      "consist review program written offic polici retir plan lower health in deduct:1\n",
      "provid incent contest parti flex hour:1\n",
      "no strictli famili busi:1\n",
      "stronger oper system:1\n",
      "posit feedback better rais profession mind manag:1\n",
      "they could improv k match it aggrav:1\n",
      "make effort make us happi don yell us like:1\n",
      "have better commun employe offic:1\n",
      "music day everyday:1\n",
      "revert old day:1\n",
      "be awar employe work shift fit norm:1\n",
      "listen employe also follow plan action someth goe wrong:1\n",
      "get rid ceo:1\n",
      "better pay less pay union due insur plan:1\n",
      "give cheaper insur:1\n",
      "can think anyth:2\n",
      "better commun:2\n",
      "pool beer morn:1\n",
      "it hard say differ peopl like differ thing i believ compani great job meet peopl need:1\n",
      "actual listen take measur fix problem:1\n",
      "follow thru:1\n",
      "continu keep employe inform:1\n",
      "better health insur coverag:1\n",
      "compens employe level perform:1\n",
      "fire store manag hire someon less abras:1\n",
      "treat employe valuabl rather expend:1\n",
      "not sure:1\n",
      "better compens packag k healthcar insur:2\n",
      "how promot i heard anyon get promot sinc i it start look like way get promot go anoth compani that worri i want lose staff i realli like stay i also career think:1\n",
      "higher careerpromot tuition reimburs better match k:1\n",
      "yearli revu:1\n",
      "improv benefit:1\n",
      "get involv person develop:1\n",
      "careerpromot rais reflect job perform:1\n",
      "the lack benefit rel similar compani total disgrac contribut heavili staff attrit we park space shower facil compani contribut pension the dispar differ countri make feel dissatisfact wors:1\n",
      "involv lower manag decis process better feedback street:1\n",
      "vacat time:1\n",
      "offer gener higher pay i know everyon say compani offer competit low pay best work environ staff person benefit could ever hope so monthli food rent bill constant struggl i love i work i lucki part organ lucki th:1\n",
      "commun manag employe:2\n",
      "by listen employe problem come take action lot quicker:1\n",
      "careerpromot rais industri standard:2\n",
      "be open:1\n",
      "the structur busi realli allow type improv outsid offic activ i realli feel comfort attend:1\n",
      "give rais work hard job perform show loyalti room advanc:1\n",
      "listen peopl hire help stop greedi:1\n",
      "more benefit:1\n",
      "less bureaucraci fund:1\n",
      "the compani need offer option get week vacat:1\n",
      "facil come mind:1\n",
      "spend money make money thru technolog:1\n",
      "give back took away:1\n",
      "listen respond need:1\n",
      "be avail employe higher staff:1\n",
      "give employe least chanc buy medic insur compani:1\n",
      "benefit packag commun:1\n",
      "they alway work us use suggest:1\n",
      "vacat time increas employ ira contribut:1\n",
      "better post new job offer better explan high level manag chang fewer manag chang restructur year:1\n",
      "perk:1\n",
      "have avail person growth:1\n",
      "i would like money:1\n",
      "know yet:1\n",
      "person day person reason:1\n",
      "want list they start give crap worker they also lighten constant surveil they watch us time minut late get yell i profession punch clock i often work home care all care someon desk w:1\n",
      "treat us like famili rather employe number:1\n",
      "rais base job perform:1\n",
      "bring remot offic corpor cultur employe program benefit incent event occur corpor offic duplic remot offic an exampl offic golf tournament fund raiser picnic:1\n",
      "give better view employ give rais pay minimum wage give least hour work so benefit offer:1\n",
      "other make feel like valu member staff boss well i think anyth els could:1\n",
      "more bonus incent:1\n",
      "act keep employe longer:1\n",
      "no comment:1\n",
      "everyth:1\n",
      "greater career opportun mobil offic locat:1\n",
      "don know:1\n",
      "dental vision insur would nice:1\n",
      "do i say i go:1\n",
      "pay treat fairli:2\n",
      "have polici throughout entir univers:1\n",
      "better perk movi:1\n",
      "they could creat real k program instead k wanna program today:1\n",
      "benefit:1\n",
      "commun alway better listen senior manag vision strategi one argu disagre howev bring work forc execut seem sometim put unexpect process place well commun reason therefor confus staff instead motiv next see lo:1\n",
      "park:1\n",
      "previou employ gave all employe unannounc token appreci coupl hour pay food treat compani pen etc:1\n",
      "the compani distribut work load a employe cover work:1\n",
      "i think compani done better job recent year:1\n",
      "i think social event employe network peopl depart i also think compani charit event i would also like free facil:1\n",
      "offer flexibl schedul depart:1\n",
      "good far:1\n",
      "again place much emphasi sick time perfect attend:1\n",
      "keep improv channel employe feedback:1\n",
      "rais offer overtim etc:1\n",
      "show proper respect employe treat like brain good idea:1\n",
      "provid benefit part time employe not fill paper work get paid:1\n",
      "improv compens packag start k match:1\n",
      "act feedback:1\n",
      "pleas see previou answer the busi offic would feel better recogn respect valu part organ some time small thing make place better work money great i alway take rais sincer great job small surpris cooki etc realli lift feel:1\n",
      "recognit:1\n",
      "offer compani match k:1\n",
      "employe satisfact:1\n",
      "i answer:1\n",
      "i think beyond repair facil:1\n",
      "better pay rais:1\n",
      "compani close:1\n",
      "get rid gossip troubl maker:1\n",
      "pay rais:1\n",
      "i think give us pizza cheeseburg everi friday:1\n",
      "at time much commun:1\n",
      "have health insur:1\n"
     ]
    }
   ],
   "source": [
    "#Extraemos la frecuencia de la tokenización\n",
    "fre = nltk.FreqDist(token)\n",
    "\n",
    "for key,val in fre.items():\n",
    "\n",
    "    print (str(key) + ':' + str(val))"
   ]
  },
  {
   "cell_type": "code",
   "execution_count": 22,
   "metadata": {},
   "outputs": [
    {
     "data": {
      "image/png": "[encoded data removed]",
      "text/plain": [
       "<Figure size 432x288 with 1 Axes>"
      ]
     },
     "metadata": {
      "needs_background": "light"
     },
     "output_type": "display_data"
    },
    {
     "data": {
      "text/plain": [
       "<matplotlib.axes._subplots.AxesSubplot at 0x20162ecd710>"
      ]
     },
     "execution_count": 22,
     "metadata": {},
     "output_type": "execute_result"
    }
   ],
   "source": [
    "#Gráfico con más visibilidad\n",
    "fre.plot(20,cumulative=False)"
   ]
  },
  {
   "cell_type": "markdown",
   "metadata": {},
   "source": [
    "Analizamos más la información del resto de los campos para dar más insights para el negocio"
   ]
  },
  {
   "cell_type": "code",
   "execution_count": 23,
   "metadata": {},
   "outputs": [
    {
     "data": {
      "image/png": "[encoded data removed]",
      "text/plain": [
       "<Figure size 1080x504 with 1 Axes>"
      ]
     },
     "metadata": {
      "needs_background": "light"
     },
     "output_type": "display_data"
    },
    {
     "name": "stdout",
     "output_type": "stream",
     "text": [
      "1.0    937\n",
      "0.0    752\n",
      "Name: Status, dtype: int64\n",
      "1.0    55.476613\n",
      "0.0    44.523387\n",
      "Name: Status, dtype: float64\n"
     ]
    }
   ],
   "source": [
    "#Total de empleados que aún siguen/dejaron la compañia\n",
    "\n",
    "Estatus=df.Status.rename({0:\"Exempleado\",1:\"Empleado actual\"})\n",
    "\n",
    "fig = plt.figure(figsize=(15,7))\n",
    "sns.countplot(Estatus)\n",
    "plt.xlabel('Conteo',fontsize=20)\n",
    "plt.ylabel('Estatus',fontsize=20)\n",
    "plt.title('Conteo de Estatus de empleados', fontsize=30)\n",
    "plt.show()\n",
    "n_employees = len(df)\n",
    "\n",
    "# El número de empleados que están y se fueron\n",
    "print(df.Status.value_counts())\n",
    "\n",
    "# El porcentaje\n",
    "print(df.Status.value_counts()/n_employees*100)"
   ]
  },
  {
   "cell_type": "code",
   "execution_count": 24,
   "metadata": {},
   "outputs": [
    {
     "data": {
      "image/png": "[encoded data removed]",
      "text/plain": [
       "<Figure size 1080x504 with 1 Axes>"
      ]
     },
     "metadata": {
      "needs_background": "light"
     },
     "output_type": "display_data"
    }
   ],
   "source": [
    "#Verificamos donde están ubicados los empleados\n",
    "fig = plt.figure(figsize=(15,7))\n",
    "sns.countplot(x='PositionType',data=df)\n",
    "plt.show()"
   ]
  },
  {
   "cell_type": "code",
   "execution_count": 25,
   "metadata": {},
   "outputs": [
    {
     "data": {
      "image/png": "[encoded data removed]",
      "text/plain": [
       "<Figure size 1080x504 with 1 Axes>"
      ]
     },
     "metadata": {
      "needs_background": "light"
     },
     "output_type": "display_data"
    }
   ],
   "source": [
    "#Observamos de qué área se van más los empleados\n",
    "fig = plt.figure(figsize=(15,7))\n",
    "sns.barplot(x='PositionType',y='Status',data=df)\n",
    "plt.show()"
   ]
  },
  {
   "cell_type": "code",
   "execution_count": 26,
   "metadata": {},
   "outputs": [
    {
     "data": {
      "image/png": "[encoded data removed]",
      "text/plain": [
       "<Figure size 1080x504 with 1 Axes>"
      ]
     },
     "metadata": {
      "needs_background": "light"
     },
     "output_type": "display_data"
    }
   ],
   "source": [
    "#Verificamos los diferentes salarios y comparamos entre los empleados que siguen y los que no están más\n",
    "fig = plt.figure(figsize=(15,7))\n",
    "sns.boxplot(x='Status',y='Est_Income',data=df)\n",
    "plt.show()"
   ]
  }
 ],
 "metadata": {
  "kernelspec": {
   "display_name": "Python 3",
   "language": "python",
   "name": "python3"
  },
  "language_info": {
   "codemirror_mode": {
    "name": "ipython",
    "version": 3
   },
   "file_extension": ".py",
   "mimetype": "text/x-python",
   "name": "python",
   "nbconvert_exporter": "python",
   "pygments_lexer": "ipython3",
   "version": "3.7.1"
  }
 },
 "nbformat": 4,
 "nbformat_minor": 4
}
